{
 "cells": [
  {
   "cell_type": "markdown",
   "metadata": {},
   "source": [
    "# LLM\n",
    "\n",
    "hands-on practice"
   ]
  },
  {
   "cell_type": "code",
   "execution_count": 2,
   "metadata": {},
   "outputs": [
    {
     "name": "stdout",
     "output_type": "stream",
     "text": [
      "Requirement already satisfied: appnope==0.1.4 in /Users/doll/Library/Python/3.13/lib/python/site-packages (from -r requirements.txt (line 1)) (0.1.4)\n",
      "Requirement already satisfied: asttokens==3.0.0 in /Library/Frameworks/Python.framework/Versions/3.13/lib/python3.13/site-packages (from -r requirements.txt (line 2)) (3.0.0)\n",
      "Requirement already satisfied: certifi==2025.4.26 in /Library/Frameworks/Python.framework/Versions/3.13/lib/python3.13/site-packages (from -r requirements.txt (line 3)) (2025.4.26)\n",
      "Requirement already satisfied: charset-normalizer==3.4.2 in /Library/Frameworks/Python.framework/Versions/3.13/lib/python3.13/site-packages (from -r requirements.txt (line 4)) (3.4.2)\n",
      "Requirement already satisfied: comm==0.2.2 in /Users/doll/Library/Python/3.13/lib/python/site-packages (from -r requirements.txt (line 5)) (0.2.2)\n",
      "Requirement already satisfied: contourpy==1.3.1 in /Library/Frameworks/Python.framework/Versions/3.13/lib/python3.13/site-packages (from -r requirements.txt (line 6)) (1.3.1)\n",
      "Requirement already satisfied: cycler==0.12.1 in /Library/Frameworks/Python.framework/Versions/3.13/lib/python3.13/site-packages (from -r requirements.txt (line 7)) (0.12.1)\n",
      "Requirement already satisfied: debugpy==1.8.14 in /Users/doll/Library/Python/3.13/lib/python/site-packages (from -r requirements.txt (line 8)) (1.8.14)\n",
      "Requirement already satisfied: decorator==5.2.1 in /Library/Frameworks/Python.framework/Versions/3.13/lib/python3.13/site-packages (from -r requirements.txt (line 9)) (5.2.1)\n",
      "Requirement already satisfied: executing==2.2.0 in /Library/Frameworks/Python.framework/Versions/3.13/lib/python3.13/site-packages (from -r requirements.txt (line 10)) (2.2.0)\n",
      "Requirement already satisfied: filelock==3.18.0 in /Library/Frameworks/Python.framework/Versions/3.13/lib/python3.13/site-packages (from -r requirements.txt (line 11)) (3.18.0)\n",
      "Requirement already satisfied: fonttools==4.57.0 in /Library/Frameworks/Python.framework/Versions/3.13/lib/python3.13/site-packages (from -r requirements.txt (line 12)) (4.57.0)\n",
      "Requirement already satisfied: fsspec==2025.3.2 in /Library/Frameworks/Python.framework/Versions/3.13/lib/python3.13/site-packages (from -r requirements.txt (line 13)) (2025.3.2)\n",
      "Requirement already satisfied: hf-xet==1.1.2 in /Library/Frameworks/Python.framework/Versions/3.13/lib/python3.13/site-packages (from -r requirements.txt (line 14)) (1.1.2)\n",
      "Requirement already satisfied: huggingface-hub==0.32.0 in /Library/Frameworks/Python.framework/Versions/3.13/lib/python3.13/site-packages (from -r requirements.txt (line 15)) (0.32.0)\n",
      "Requirement already satisfied: idna==3.10 in /Library/Frameworks/Python.framework/Versions/3.13/lib/python3.13/site-packages (from -r requirements.txt (line 16)) (3.10)\n",
      "Requirement already satisfied: ipykernel==6.29.5 in /Users/doll/Library/Python/3.13/lib/python/site-packages (from -r requirements.txt (line 17)) (6.29.5)\n",
      "Requirement already satisfied: ipython==9.1.0 in /Library/Frameworks/Python.framework/Versions/3.13/lib/python3.13/site-packages (from -r requirements.txt (line 18)) (9.1.0)\n",
      "Requirement already satisfied: ipython_pygments_lexers==1.1.1 in /Library/Frameworks/Python.framework/Versions/3.13/lib/python3.13/site-packages (from -r requirements.txt (line 19)) (1.1.1)\n",
      "Requirement already satisfied: jedi==0.19.2 in /Library/Frameworks/Python.framework/Versions/3.13/lib/python3.13/site-packages (from -r requirements.txt (line 20)) (0.19.2)\n",
      "Requirement already satisfied: Jinja2==3.1.6 in /Library/Frameworks/Python.framework/Versions/3.13/lib/python3.13/site-packages (from -r requirements.txt (line 21)) (3.1.6)\n",
      "Requirement already satisfied: joblib==1.5.1 in /Library/Frameworks/Python.framework/Versions/3.13/lib/python3.13/site-packages (from -r requirements.txt (line 22)) (1.5.1)\n",
      "Requirement already satisfied: jupyter_client==8.6.3 in /Users/doll/Library/Python/3.13/lib/python/site-packages (from -r requirements.txt (line 23)) (8.6.3)\n",
      "Requirement already satisfied: jupyter_core==5.7.2 in /Users/doll/Library/Python/3.13/lib/python/site-packages (from -r requirements.txt (line 24)) (5.7.2)\n",
      "Requirement already satisfied: kiwisolver==1.4.8 in /Library/Frameworks/Python.framework/Versions/3.13/lib/python3.13/site-packages (from -r requirements.txt (line 25)) (1.4.8)\n",
      "Requirement already satisfied: MarkupSafe==3.0.2 in /Library/Frameworks/Python.framework/Versions/3.13/lib/python3.13/site-packages (from -r requirements.txt (line 26)) (3.0.2)\n",
      "Requirement already satisfied: matplotlib==3.10.1 in /Library/Frameworks/Python.framework/Versions/3.13/lib/python3.13/site-packages (from -r requirements.txt (line 27)) (3.10.1)\n",
      "Requirement already satisfied: matplotlib-inline==0.1.7 in /Library/Frameworks/Python.framework/Versions/3.13/lib/python3.13/site-packages (from -r requirements.txt (line 28)) (0.1.7)\n",
      "Requirement already satisfied: mpmath==1.3.0 in /Library/Frameworks/Python.framework/Versions/3.13/lib/python3.13/site-packages (from -r requirements.txt (line 29)) (1.3.0)\n",
      "Requirement already satisfied: nest-asyncio==1.6.0 in /Users/doll/Library/Python/3.13/lib/python/site-packages (from -r requirements.txt (line 30)) (1.6.0)\n",
      "Requirement already satisfied: networkx==3.4.2 in /Library/Frameworks/Python.framework/Versions/3.13/lib/python3.13/site-packages (from -r requirements.txt (line 31)) (3.4.2)\n",
      "Requirement already satisfied: numpy==2.2.4 in /Library/Frameworks/Python.framework/Versions/3.13/lib/python3.13/site-packages (from -r requirements.txt (line 32)) (2.2.4)\n",
      "Requirement already satisfied: packaging==24.2 in /Library/Frameworks/Python.framework/Versions/3.13/lib/python3.13/site-packages (from -r requirements.txt (line 33)) (24.2)\n",
      "Requirement already satisfied: pandas==2.2.3 in /Library/Frameworks/Python.framework/Versions/3.13/lib/python3.13/site-packages (from -r requirements.txt (line 34)) (2.2.3)\n",
      "Requirement already satisfied: parso==0.8.4 in /Library/Frameworks/Python.framework/Versions/3.13/lib/python3.13/site-packages (from -r requirements.txt (line 35)) (0.8.4)\n",
      "Requirement already satisfied: pexpect==4.9.0 in /Library/Frameworks/Python.framework/Versions/3.13/lib/python3.13/site-packages (from -r requirements.txt (line 36)) (4.9.0)\n",
      "Requirement already satisfied: pillow==11.2.1 in /Library/Frameworks/Python.framework/Versions/3.13/lib/python3.13/site-packages (from -r requirements.txt (line 37)) (11.2.1)\n",
      "Requirement already satisfied: platformdirs==4.3.7 in /Library/Frameworks/Python.framework/Versions/3.13/lib/python3.13/site-packages (from -r requirements.txt (line 38)) (4.3.7)\n",
      "Requirement already satisfied: prompt_toolkit==3.0.50 in /Library/Frameworks/Python.framework/Versions/3.13/lib/python3.13/site-packages (from -r requirements.txt (line 39)) (3.0.50)\n",
      "Requirement already satisfied: psutil==7.0.0 in /Library/Frameworks/Python.framework/Versions/3.13/lib/python3.13/site-packages (from -r requirements.txt (line 40)) (7.0.0)\n",
      "Requirement already satisfied: ptyprocess==0.7.0 in /Library/Frameworks/Python.framework/Versions/3.13/lib/python3.13/site-packages (from -r requirements.txt (line 41)) (0.7.0)\n",
      "Requirement already satisfied: pure_eval==0.2.3 in /Library/Frameworks/Python.framework/Versions/3.13/lib/python3.13/site-packages (from -r requirements.txt (line 42)) (0.2.3)\n",
      "Requirement already satisfied: Pygments==2.19.1 in /Library/Frameworks/Python.framework/Versions/3.13/lib/python3.13/site-packages (from -r requirements.txt (line 43)) (2.19.1)\n",
      "Requirement already satisfied: pyparsing==3.2.3 in /Library/Frameworks/Python.framework/Versions/3.13/lib/python3.13/site-packages (from -r requirements.txt (line 44)) (3.2.3)\n",
      "Requirement already satisfied: python-dateutil==2.9.0.post0 in /Library/Frameworks/Python.framework/Versions/3.13/lib/python3.13/site-packages (from -r requirements.txt (line 45)) (2.9.0.post0)\n",
      "Requirement already satisfied: pytz==2025.2 in /Library/Frameworks/Python.framework/Versions/3.13/lib/python3.13/site-packages (from -r requirements.txt (line 46)) (2025.2)\n",
      "Requirement already satisfied: PyYAML==6.0.2 in /Library/Frameworks/Python.framework/Versions/3.13/lib/python3.13/site-packages (from -r requirements.txt (line 47)) (6.0.2)\n",
      "Requirement already satisfied: pyzmq==26.4.0 in /Users/doll/Library/Python/3.13/lib/python/site-packages (from -r requirements.txt (line 48)) (26.4.0)\n",
      "Requirement already satisfied: regex==2024.11.6 in /Library/Frameworks/Python.framework/Versions/3.13/lib/python3.13/site-packages (from -r requirements.txt (line 49)) (2024.11.6)\n",
      "Requirement already satisfied: requests==2.32.3 in /Library/Frameworks/Python.framework/Versions/3.13/lib/python3.13/site-packages (from -r requirements.txt (line 50)) (2.32.3)\n",
      "Requirement already satisfied: safetensors==0.5.3 in /Library/Frameworks/Python.framework/Versions/3.13/lib/python3.13/site-packages (from -r requirements.txt (line 51)) (0.5.3)\n",
      "Requirement already satisfied: scikit-learn==1.6.1 in /Library/Frameworks/Python.framework/Versions/3.13/lib/python3.13/site-packages (from -r requirements.txt (line 52)) (1.6.1)\n",
      "Requirement already satisfied: scipy==1.15.3 in /Library/Frameworks/Python.framework/Versions/3.13/lib/python3.13/site-packages (from -r requirements.txt (line 53)) (1.15.3)\n",
      "Requirement already satisfied: sentence-transformers==4.1.0 in /Library/Frameworks/Python.framework/Versions/3.13/lib/python3.13/site-packages (from -r requirements.txt (line 54)) (4.1.0)\n",
      "Requirement already satisfied: setuptools==78.1.0 in /Library/Frameworks/Python.framework/Versions/3.13/lib/python3.13/site-packages (from -r requirements.txt (line 55)) (78.1.0)\n",
      "Requirement already satisfied: six==1.17.0 in /Library/Frameworks/Python.framework/Versions/3.13/lib/python3.13/site-packages (from -r requirements.txt (line 56)) (1.17.0)\n",
      "Requirement already satisfied: stack-data==0.6.3 in /Library/Frameworks/Python.framework/Versions/3.13/lib/python3.13/site-packages (from -r requirements.txt (line 57)) (0.6.3)\n",
      "Requirement already satisfied: sympy==1.13.1 in /Library/Frameworks/Python.framework/Versions/3.13/lib/python3.13/site-packages (from -r requirements.txt (line 58)) (1.13.1)\n",
      "Requirement already satisfied: threadpoolctl==3.6.0 in /Library/Frameworks/Python.framework/Versions/3.13/lib/python3.13/site-packages (from -r requirements.txt (line 59)) (3.6.0)\n",
      "Requirement already satisfied: tokenizers==0.21.1 in /Library/Frameworks/Python.framework/Versions/3.13/lib/python3.13/site-packages (from -r requirements.txt (line 60)) (0.21.1)\n",
      "Requirement already satisfied: torch==2.6.0 in /Library/Frameworks/Python.framework/Versions/3.13/lib/python3.13/site-packages (from -r requirements.txt (line 61)) (2.6.0)\n",
      "Requirement already satisfied: torchaudio==2.6.0 in /Library/Frameworks/Python.framework/Versions/3.13/lib/python3.13/site-packages (from -r requirements.txt (line 62)) (2.6.0)\n",
      "Requirement already satisfied: torchvision==0.21.0 in /Library/Frameworks/Python.framework/Versions/3.13/lib/python3.13/site-packages (from -r requirements.txt (line 63)) (0.21.0)\n",
      "Requirement already satisfied: tornado==6.4.2 in /Library/Frameworks/Python.framework/Versions/3.13/lib/python3.13/site-packages (from -r requirements.txt (line 64)) (6.4.2)\n",
      "Requirement already satisfied: tqdm==4.67.1 in /Library/Frameworks/Python.framework/Versions/3.13/lib/python3.13/site-packages (from -r requirements.txt (line 65)) (4.67.1)\n",
      "Requirement already satisfied: traitlets==5.14.3 in /Library/Frameworks/Python.framework/Versions/3.13/lib/python3.13/site-packages (from -r requirements.txt (line 66)) (5.14.3)\n",
      "Requirement already satisfied: transformers==4.52.3 in /Library/Frameworks/Python.framework/Versions/3.13/lib/python3.13/site-packages (from -r requirements.txt (line 67)) (4.52.3)\n",
      "Requirement already satisfied: typing_extensions==4.13.2 in /Library/Frameworks/Python.framework/Versions/3.13/lib/python3.13/site-packages (from -r requirements.txt (line 68)) (4.13.2)\n",
      "Requirement already satisfied: tzdata==2025.2 in /Library/Frameworks/Python.framework/Versions/3.13/lib/python3.13/site-packages (from -r requirements.txt (line 69)) (2025.2)\n",
      "Requirement already satisfied: urllib3==2.4.0 in /Library/Frameworks/Python.framework/Versions/3.13/lib/python3.13/site-packages (from -r requirements.txt (line 70)) (2.4.0)\n",
      "Requirement already satisfied: wcwidth==0.2.13 in /Library/Frameworks/Python.framework/Versions/3.13/lib/python3.13/site-packages (from -r requirements.txt (line 71)) (0.2.13)\n"
     ]
    }
   ],
   "source": [
    "!python -m pip install -r requirements.txt"
   ]
  },
  {
   "cell_type": "code",
   "execution_count": 1,
   "metadata": {},
   "outputs": [],
   "source": [
    "# init device\n",
    "import torch\n",
    "\n",
    "\n",
    "if torch.cuda.is_available():\n",
    "    device = torch.device('cuda')\n",
    "elif torch.backends.mps.is_available():\n",
    "    device = torch.device('mps')\n",
    "else:\n",
    "    device = torch.device('cpu')\n"
   ]
  },
  {
   "cell_type": "code",
   "execution_count": null,
   "metadata": {},
   "outputs": [
    {
     "data": {
      "application/vnd.jupyter.widget-view+json": {
       "model_id": "f2127602ece54ca39da30b29b4e438b9",
       "version_major": 2,
       "version_minor": 0
      },
      "text/plain": [
       "Loading checkpoint shards:   0%|          | 0/2 [00:00<?, ?it/s]"
      ]
     },
     "metadata": {},
     "output_type": "display_data"
    }
   ],
   "source": [
    "from transformers import AutoModelForCausalLM, AutoTokenizer\n",
    "\n",
    "\n",
    "model_name = 'microsoft/phi-3-mini-4k-instruct'\n",
    "# trust_remote_code=False 解决：\n",
    "# 'DynamicCache' object has no attribute 'get_max_length'\n",
    "model = AutoModelForCausalLM.from_pretrained(\n",
    "    model_name,\n",
    "    device_map=device.type,\n",
    "    torch_dtype='auto',\n",
    "    trust_remote_code=False,\n",
    ")\n",
    "tokenizer = AutoTokenizer.from_pretrained(\n",
    "    model_name,\n",
    ")"
   ]
  },
  {
   "cell_type": "code",
   "execution_count": 10,
   "metadata": {},
   "outputs": [
    {
     "name": "stdout",
     "output_type": "stream",
     "text": [
      "This is a demo of the LLM. Please tell me what is LLM?<|assistant|> LLM stands for \"Large Language Model.\" It is a type of artificial intelligence (AI)\n"
     ]
    }
   ],
   "source": [
    "prompt = 'This is a demo of the LLM. Please tell me what is LLM?<|assistant|>'\n",
    "\n",
    "input_ids = tokenizer.encode(prompt, return_tensors='pt').to(device)\n",
    "\n",
    "generation_output = model.generate(\n",
    "    input_ids=input_ids,\n",
    ")\n",
    "\n",
    "print(tokenizer.decode(generation_output[0]))"
   ]
  },
  {
   "cell_type": "code",
   "execution_count": 11,
   "metadata": {},
   "outputs": [
    {
     "name": "stdout",
     "output_type": "stream",
     "text": [
      "tensor([[  910,   338,   263, 13455,   310,   278,   365, 26369, 29889,  3529,\n",
      "          2649,   592,   825,   338,   365, 26369, 29973, 32001]],\n",
      "       device='mps:0')\n",
      "This is a demo of the LLM. Please tell me what is LLM?<|assistant|>\n"
     ]
    }
   ],
   "source": [
    "# check input_ids\n",
    "print(input_ids)\n",
    "\n",
    "for input_id in input_ids:\n",
    "    print(tokenizer.decode(input_id))"
   ]
  },
  {
   "cell_type": "markdown",
   "metadata": {},
   "source": [
    "## tokenizer 对比"
   ]
  },
  {
   "cell_type": "code",
   "execution_count": 1,
   "metadata": {},
   "outputs": [],
   "source": [
    "text = \"\"\"\n",
    "English and CAPITALIZATION\n",
    "🎵 鸟\n",
    "show_tokens False None elif == >= else: two tabs:\"    \" Three tabs: \"       \"\n",
    "12.0*50=600\n",
    "\"\"\""
   ]
  },
  {
   "cell_type": "code",
   "execution_count": null,
   "metadata": {},
   "outputs": [],
   "source": [
    "# test color\n",
    "for i in range(256):\n",
    "    print(f'\\x1b[0;37;48;5;{i}m Test with {i}\\x1b[0m')"
   ]
  },
  {
   "cell_type": "code",
   "execution_count": 26,
   "metadata": {},
   "outputs": [],
   "source": [
    "colors_list = list(range(100, 107))\n",
    "\n",
    "def show_tokens(sentence, tokenizer_name):\n",
    "    tokenizer = AutoTokenizer.from_pretrained(tokenizer_name)\n",
    "    token_ids = tokenizer.encode(sentence)\n",
    "    for i, t in enumerate(token_ids):\n",
    "        print(\n",
    "            f'\\x1b[0;37;48;5;{colors_list[i%len(colors_list)]}m' +\n",
    "            tokenizer.decode(t) +\n",
    "            '\\x1b[0m',\n",
    "            end=' ',\n",
    "        )\n",
    "\n"
   ]
  },
  {
   "cell_type": "markdown",
   "metadata": {},
   "source": [
    "### BERT base model (insensitive to case; ci)\n",
    "\n",
    "* 分词法：WordPiece\n",
    "* 参考文献：Japanese and Korean Voice Search\n",
    "* 特殊 token\n",
    "  * 未知：`[UNK]`\n",
    "  * 分隔符：`[SEP]`\n",
    "  * 填充：`[PAD]`\n",
    "  * 分类：`[CLS]`，用于分类任务\n",
    "  * 掩码：`MASK`，用于隐藏token\n",
    "\n",
    "特点：\n",
    "\n",
    "* 不处理换行符，所以无法识别通过换行符体现的信息\n",
    "* 文本都转为小写\n",
    "* 没有`##`前缀的`token`表示前面应该加一个空格\n",
    "* 中文和表情替换为位置 token，即`[UNK]`"
   ]
  },
  {
   "cell_type": "code",
   "execution_count": 8,
   "metadata": {},
   "outputs": [
    {
     "name": "stdout",
     "output_type": "stream",
     "text": [
      "\u001b[0;30;48;2;102;194;165m[CLS]\u001b[0m \u001b[0;30;48;2;252;141;98menglish\u001b[0m \u001b[0;30;48;2;141;160;203mand\u001b[0m \u001b[0;30;48;2;231;138;195mcapital\u001b[0m \u001b[0;30;48;2;166;216;84m##ization\u001b[0m \u001b[0;30;48;2;255;217;47m[UNK]\u001b[0m \u001b[0;30;48;2;102;194;165m[UNK]\u001b[0m \u001b[0;30;48;2;252;141;98mshow\u001b[0m \u001b[0;30;48;2;141;160;203m_\u001b[0m \u001b[0;30;48;2;231;138;195mtoken\u001b[0m \u001b[0;30;48;2;166;216;84m##s\u001b[0m \u001b[0;30;48;2;255;217;47mfalse\u001b[0m \u001b[0;30;48;2;102;194;165mnone\u001b[0m \u001b[0;30;48;2;252;141;98meli\u001b[0m \u001b[0;30;48;2;141;160;203m##f\u001b[0m \u001b[0;30;48;2;231;138;195m=\u001b[0m \u001b[0;30;48;2;166;216;84m=\u001b[0m \u001b[0;30;48;2;255;217;47m>\u001b[0m \u001b[0;30;48;2;102;194;165m=\u001b[0m \u001b[0;30;48;2;252;141;98melse\u001b[0m \u001b[0;30;48;2;141;160;203m:\u001b[0m \u001b[0;30;48;2;231;138;195mtwo\u001b[0m \u001b[0;30;48;2;166;216;84mtab\u001b[0m \u001b[0;30;48;2;255;217;47m##s\u001b[0m \u001b[0;30;48;2;102;194;165m:\u001b[0m \u001b[0;30;48;2;252;141;98m\"\u001b[0m \u001b[0;30;48;2;141;160;203m\"\u001b[0m \u001b[0;30;48;2;231;138;195mthree\u001b[0m \u001b[0;30;48;2;166;216;84mtab\u001b[0m \u001b[0;30;48;2;255;217;47m##s\u001b[0m \u001b[0;30;48;2;102;194;165m:\u001b[0m \u001b[0;30;48;2;252;141;98m\"\u001b[0m \u001b[0;30;48;2;141;160;203m\"\u001b[0m \u001b[0;30;48;2;231;138;195m12\u001b[0m \u001b[0;30;48;2;166;216;84m.\u001b[0m \u001b[0;30;48;2;255;217;47m0\u001b[0m \u001b[0;30;48;2;102;194;165m*\u001b[0m \u001b[0;30;48;2;252;141;98m50\u001b[0m \u001b[0;30;48;2;141;160;203m=\u001b[0m \u001b[0;30;48;2;231;138;195m600\u001b[0m \u001b[0;30;48;2;166;216;84m[SEP]\u001b[0m "
     ]
    }
   ],
   "source": [
    "show_tokens(text, \"bert-base-uncased\")"
   ]
  },
  {
   "cell_type": "markdown",
   "metadata": {},
   "source": [
    "### BERT base model (sensitive to case)\n",
    "\n",
    "* 特殊 token 和ci相同\n",
    "\n",
    "特点：\n",
    "\n",
    "* 除了和 ci 相似的特性外\n",
    "* 有大小写区别\n",
    "* CAPITALIZATION 分词策略不同\n"
   ]
  },
  {
   "cell_type": "code",
   "execution_count": null,
   "metadata": {},
   "outputs": [],
   "source": [
    "show_tokens(text, \"bert-base-cased\")"
   ]
  },
  {
   "cell_type": "markdown",
   "metadata": {},
   "source": [
    "### GPT-2\n",
    "\n",
    "* 分词法：BPE\n",
    "* 参考文献：Neural Machine Translation of Rare Words with Subwords Units\n",
    "* 特殊token：\n",
    "  * `<|endoftext|>`\n",
    "\n",
    "特点：\n",
    "\n",
    "* 保留换行符\n",
    "* 保留大小写\n",
    "* 处理emoji\n",
    "* 制表符处理"
   ]
  },
  {
   "cell_type": "code",
   "execution_count": 9,
   "metadata": {},
   "outputs": [
    {
     "data": {
      "application/vnd.jupyter.widget-view+json": {
       "model_id": "80699e116c094e84b1c571e411bff34f",
       "version_major": 2,
       "version_minor": 0
      },
      "text/plain": [
       "tokenizer_config.json:   0%|          | 0.00/26.0 [00:00<?, ?B/s]"
      ]
     },
     "metadata": {},
     "output_type": "display_data"
    },
    {
     "data": {
      "application/vnd.jupyter.widget-view+json": {
       "model_id": "b7fc77128c504cb1b8dff7cfba4e7cbb",
       "version_major": 2,
       "version_minor": 0
      },
      "text/plain": [
       "config.json:   0%|          | 0.00/377 [00:00<?, ?B/s]"
      ]
     },
     "metadata": {},
     "output_type": "display_data"
    },
    {
     "data": {
      "application/vnd.jupyter.widget-view+json": {
       "model_id": "fc0179a3180d486092e9eaf0b57b2bd4",
       "version_major": 2,
       "version_minor": 0
      },
      "text/plain": [
       "vocab.json: 0.00B [00:00, ?B/s]"
      ]
     },
     "metadata": {},
     "output_type": "display_data"
    },
    {
     "data": {
      "application/vnd.jupyter.widget-view+json": {
       "model_id": "777d0c73ae7b4938a880dee55491826b",
       "version_major": 2,
       "version_minor": 0
      },
      "text/plain": [
       "merges.txt: 0.00B [00:00, ?B/s]"
      ]
     },
     "metadata": {},
     "output_type": "display_data"
    },
    {
     "data": {
      "application/vnd.jupyter.widget-view+json": {
       "model_id": "39de653f516244c4873e1c766bd1da26",
       "version_major": 2,
       "version_minor": 0
      },
      "text/plain": [
       "tokenizer.json: 0.00B [00:00, ?B/s]"
      ]
     },
     "metadata": {},
     "output_type": "display_data"
    },
    {
     "name": "stdout",
     "output_type": "stream",
     "text": [
      "\u001b[0;30;48;2;102;194;165m\n",
      "\u001b[0m \u001b[0;30;48;2;252;141;98mEnglish\u001b[0m \u001b[0;30;48;2;141;160;203m and\u001b[0m \u001b[0;30;48;2;231;138;195m CAP\u001b[0m \u001b[0;30;48;2;166;216;84mITAL\u001b[0m \u001b[0;30;48;2;255;217;47mIZ\u001b[0m \u001b[0;30;48;2;102;194;165mATION\u001b[0m \u001b[0;30;48;2;252;141;98m\n",
      "\u001b[0m \u001b[0;30;48;2;141;160;203m�\u001b[0m \u001b[0;30;48;2;231;138;195m�\u001b[0m \u001b[0;30;48;2;166;216;84m�\u001b[0m \u001b[0;30;48;2;255;217;47m �\u001b[0m \u001b[0;30;48;2;102;194;165m�\u001b[0m \u001b[0;30;48;2;252;141;98m�\u001b[0m \u001b[0;30;48;2;141;160;203m\n",
      "\u001b[0m \u001b[0;30;48;2;231;138;195mshow\u001b[0m \u001b[0;30;48;2;166;216;84m_\u001b[0m \u001b[0;30;48;2;255;217;47mt\u001b[0m \u001b[0;30;48;2;102;194;165mok\u001b[0m \u001b[0;30;48;2;252;141;98mens\u001b[0m \u001b[0;30;48;2;141;160;203m False\u001b[0m \u001b[0;30;48;2;231;138;195m None\u001b[0m \u001b[0;30;48;2;166;216;84m el\u001b[0m \u001b[0;30;48;2;255;217;47mif\u001b[0m \u001b[0;30;48;2;102;194;165m ==\u001b[0m \u001b[0;30;48;2;252;141;98m >=\u001b[0m \u001b[0;30;48;2;141;160;203m else\u001b[0m \u001b[0;30;48;2;231;138;195m:\u001b[0m \u001b[0;30;48;2;166;216;84m two\u001b[0m \u001b[0;30;48;2;255;217;47m tabs\u001b[0m \u001b[0;30;48;2;102;194;165m:\"\u001b[0m \u001b[0;30;48;2;252;141;98m \u001b[0m \u001b[0;30;48;2;141;160;203m \u001b[0m \u001b[0;30;48;2;231;138;195m \u001b[0m \u001b[0;30;48;2;166;216;84m \"\u001b[0m \u001b[0;30;48;2;255;217;47m Three\u001b[0m \u001b[0;30;48;2;102;194;165m tabs\u001b[0m \u001b[0;30;48;2;252;141;98m:\u001b[0m \u001b[0;30;48;2;141;160;203m \"\u001b[0m \u001b[0;30;48;2;231;138;195m \u001b[0m \u001b[0;30;48;2;166;216;84m \u001b[0m \u001b[0;30;48;2;255;217;47m \u001b[0m \u001b[0;30;48;2;102;194;165m \u001b[0m \u001b[0;30;48;2;252;141;98m \u001b[0m \u001b[0;30;48;2;141;160;203m \u001b[0m \u001b[0;30;48;2;231;138;195m \"\u001b[0m \u001b[0;30;48;2;166;216;84m\n",
      "\u001b[0m \u001b[0;30;48;2;255;217;47m12\u001b[0m \u001b[0;30;48;2;102;194;165m.\u001b[0m \u001b[0;30;48;2;252;141;98m0\u001b[0m \u001b[0;30;48;2;141;160;203m*\u001b[0m \u001b[0;30;48;2;231;138;195m50\u001b[0m \u001b[0;30;48;2;166;216;84m=\u001b[0m \u001b[0;30;48;2;255;217;47m600\u001b[0m \u001b[0;30;48;2;102;194;165m\n",
      "\u001b[0m "
     ]
    }
   ],
   "source": [
    "show_tokens(text, \"gpt2\")"
   ]
  },
  {
   "cell_type": "markdown",
   "metadata": {},
   "source": [
    "### FLAN-T5\n",
    "\n",
    "* 分词法：SentencePiece\n",
    "* 参考文献：SentencePiece: A simple and language independent subword tokenizer and detokenizer for Neural Text Processing\n",
    "* 特殊 token：\n",
    "  * 未知：`<unk>`\n",
    "  * 填充：`<pad>`\n",
    "\n",
    "特点：\n",
    "\n",
    "* 没有换行符和空白符\n",
    "* 不处理 emoji 和中文"
   ]
  },
  {
   "cell_type": "code",
   "execution_count": null,
   "metadata": {},
   "outputs": [],
   "source": [
    "show_tokens(text, \"google/flan-t5-small\")"
   ]
  },
  {
   "cell_type": "markdown",
   "metadata": {},
   "source": [
    "### GPT-4\n",
    "\n",
    "* 分词法：BPE\n",
    "* 特殊token:\n",
    "  * `<|endoftext|>`\n",
    "  * 中间填充token，用于使 llm 能在考虑前后文的情况下生成补全内容：`<|fim_prefix|>`，`<|fim_middle|>`，`<|fim_suffix|>`\n",
    "\n",
    "特点：\n",
    "\n",
    "* 各种长度的空白符有特定的token表示\n",
    "* python 关键字 elif 有特殊的token；对代码的关注\n",
    "* 更少的token 来表示大多数词：例如 可以比较 CAPITALIZATION 的区别"
   ]
  },
  {
   "cell_type": "code",
   "execution_count": 10,
   "metadata": {},
   "outputs": [
    {
     "data": {
      "application/vnd.jupyter.widget-view+json": {
       "model_id": "39f7c561e85a4631bfb19d60593c0448",
       "version_major": 2,
       "version_minor": 0
      },
      "text/plain": [
       "tokenizer_config.json:   0%|          | 0.00/460 [00:00<?, ?B/s]"
      ]
     },
     "metadata": {},
     "output_type": "display_data"
    },
    {
     "data": {
      "application/vnd.jupyter.widget-view+json": {
       "model_id": "21e363b9abec4300a191107703c0cb47",
       "version_major": 2,
       "version_minor": 0
      },
      "text/plain": [
       "vocab.json: 0.00B [00:00, ?B/s]"
      ]
     },
     "metadata": {},
     "output_type": "display_data"
    },
    {
     "data": {
      "application/vnd.jupyter.widget-view+json": {
       "model_id": "9a3cb56cb0ce4ec4bfb1f2bb07f2cc4a",
       "version_major": 2,
       "version_minor": 0
      },
      "text/plain": [
       "merges.txt: 0.00B [00:00, ?B/s]"
      ]
     },
     "metadata": {},
     "output_type": "display_data"
    },
    {
     "data": {
      "application/vnd.jupyter.widget-view+json": {
       "model_id": "03f1ab52297d4bc3a08a84d28a7a3406",
       "version_major": 2,
       "version_minor": 0
      },
      "text/plain": [
       "tokenizer.json: 0.00B [00:00, ?B/s]"
      ]
     },
     "metadata": {},
     "output_type": "display_data"
    },
    {
     "data": {
      "application/vnd.jupyter.widget-view+json": {
       "model_id": "66d159981b044212947e299a0be69dab",
       "version_major": 2,
       "version_minor": 0
      },
      "text/plain": [
       "special_tokens_map.json:   0%|          | 0.00/98.0 [00:00<?, ?B/s]"
      ]
     },
     "metadata": {},
     "output_type": "display_data"
    },
    {
     "name": "stdout",
     "output_type": "stream",
     "text": [
      "\u001b[0;30;48;2;102;194;165m\n",
      "\u001b[0m \u001b[0;30;48;2;252;141;98mEnglish\u001b[0m \u001b[0;30;48;2;141;160;203m and\u001b[0m \u001b[0;30;48;2;231;138;195m CAPITAL\u001b[0m \u001b[0;30;48;2;166;216;84mIZATION\u001b[0m \u001b[0;30;48;2;255;217;47m\n",
      "\u001b[0m \u001b[0;30;48;2;102;194;165m�\u001b[0m \u001b[0;30;48;2;252;141;98m�\u001b[0m \u001b[0;30;48;2;141;160;203m�\u001b[0m \u001b[0;30;48;2;231;138;195m �\u001b[0m \u001b[0;30;48;2;166;216;84m�\u001b[0m \u001b[0;30;48;2;255;217;47m�\u001b[0m \u001b[0;30;48;2;102;194;165m\n",
      "\u001b[0m \u001b[0;30;48;2;252;141;98mshow\u001b[0m \u001b[0;30;48;2;141;160;203m_tokens\u001b[0m \u001b[0;30;48;2;231;138;195m False\u001b[0m \u001b[0;30;48;2;166;216;84m None\u001b[0m \u001b[0;30;48;2;255;217;47m elif\u001b[0m \u001b[0;30;48;2;102;194;165m ==\u001b[0m \u001b[0;30;48;2;252;141;98m >=\u001b[0m \u001b[0;30;48;2;141;160;203m else\u001b[0m \u001b[0;30;48;2;231;138;195m:\u001b[0m \u001b[0;30;48;2;166;216;84m two\u001b[0m \u001b[0;30;48;2;255;217;47m tabs\u001b[0m \u001b[0;30;48;2;102;194;165m:\"\u001b[0m \u001b[0;30;48;2;252;141;98m   \u001b[0m \u001b[0;30;48;2;141;160;203m \"\u001b[0m \u001b[0;30;48;2;231;138;195m Three\u001b[0m \u001b[0;30;48;2;166;216;84m tabs\u001b[0m \u001b[0;30;48;2;255;217;47m:\u001b[0m \u001b[0;30;48;2;102;194;165m \"\u001b[0m \u001b[0;30;48;2;252;141;98m      \u001b[0m \u001b[0;30;48;2;141;160;203m \"\n",
      "\u001b[0m \u001b[0;30;48;2;231;138;195m12\u001b[0m \u001b[0;30;48;2;166;216;84m.\u001b[0m \u001b[0;30;48;2;255;217;47m0\u001b[0m \u001b[0;30;48;2;102;194;165m*\u001b[0m \u001b[0;30;48;2;252;141;98m50\u001b[0m \u001b[0;30;48;2;141;160;203m=\u001b[0m \u001b[0;30;48;2;231;138;195m600\u001b[0m \u001b[0;30;48;2;166;216;84m\n",
      "\u001b[0m "
     ]
    }
   ],
   "source": [
    "show_tokens(text, \"Xenova/gpt-4\")"
   ]
  },
  {
   "cell_type": "markdown",
   "metadata": {},
   "source": [
    "### StarCoder2\n",
    "\n",
    "专注于代码生成\n",
    "\n",
    "* 分词法：BPE\n",
    "* 参考文献：StarCoder2 and The Stack v2: The Next Generation; StarCoder: may the Source be with You!\n",
    "* 特殊次元：\n",
    "  * `<|endoftext|>`\n",
    "  * 中间填充：`<fim_prefix>`，`<fim_middle>`，`<fim_suffix>`，`<fim_pad>`\n",
    "  * 文件、仓库：`<filename>`，`<reponame>`，`<gh_stars>`\n",
    "\n",
    "特点：\n",
    "\n",
    "* 类似GPT-4，各种长度空白符有单独的 token\n",
    "* 每个数字分配了 token，该设计假设可以更好地表示数字和数学的概念"
   ]
  },
  {
   "cell_type": "code",
   "execution_count": 11,
   "metadata": {},
   "outputs": [
    {
     "data": {
      "application/vnd.jupyter.widget-view+json": {
       "model_id": "87595c282eac4202b264ffa932a1fda2",
       "version_major": 2,
       "version_minor": 0
      },
      "text/plain": [
       "tokenizer_config.json:   0%|          | 0.00/843 [00:00<?, ?B/s]"
      ]
     },
     "metadata": {},
     "output_type": "display_data"
    },
    {
     "data": {
      "application/vnd.jupyter.widget-view+json": {
       "model_id": "3765900fc4c6412badf36ef8152804ed",
       "version_major": 2,
       "version_minor": 0
      },
      "text/plain": [
       "vocab.json: 0.00B [00:00, ?B/s]"
      ]
     },
     "metadata": {},
     "output_type": "display_data"
    },
    {
     "data": {
      "application/vnd.jupyter.widget-view+json": {
       "model_id": "ec17cb0135e249e8b90e01739dfd73fe",
       "version_major": 2,
       "version_minor": 0
      },
      "text/plain": [
       "merges.txt: 0.00B [00:00, ?B/s]"
      ]
     },
     "metadata": {},
     "output_type": "display_data"
    },
    {
     "data": {
      "application/vnd.jupyter.widget-view+json": {
       "model_id": "62be31c973f94f38a2298b4ea0214f1e",
       "version_major": 2,
       "version_minor": 0
      },
      "text/plain": [
       "tokenizer.json: 0.00B [00:00, ?B/s]"
      ]
     },
     "metadata": {},
     "output_type": "display_data"
    },
    {
     "data": {
      "application/vnd.jupyter.widget-view+json": {
       "model_id": "c338e6b87a354078bfbb8f4487fa24ad",
       "version_major": 2,
       "version_minor": 0
      },
      "text/plain": [
       "special_tokens_map.json:   0%|          | 0.00/353 [00:00<?, ?B/s]"
      ]
     },
     "metadata": {},
     "output_type": "display_data"
    },
    {
     "name": "stdout",
     "output_type": "stream",
     "text": [
      "\u001b[0;30;48;2;102;194;165m\n",
      "\u001b[0m \u001b[0;30;48;2;252;141;98mEnglish\u001b[0m \u001b[0;30;48;2;141;160;203m and\u001b[0m \u001b[0;30;48;2;231;138;195m CAPITAL\u001b[0m \u001b[0;30;48;2;166;216;84mIZATION\u001b[0m \u001b[0;30;48;2;255;217;47m\n",
      "\u001b[0m \u001b[0;30;48;2;102;194;165m�\u001b[0m \u001b[0;30;48;2;252;141;98m�\u001b[0m \u001b[0;30;48;2;141;160;203m�\u001b[0m \u001b[0;30;48;2;231;138;195m \u001b[0m \u001b[0;30;48;2;166;216;84m�\u001b[0m \u001b[0;30;48;2;255;217;47m�\u001b[0m \u001b[0;30;48;2;102;194;165m\n",
      "\u001b[0m \u001b[0;30;48;2;252;141;98mshow\u001b[0m \u001b[0;30;48;2;141;160;203m_\u001b[0m \u001b[0;30;48;2;231;138;195mtokens\u001b[0m \u001b[0;30;48;2;166;216;84m False\u001b[0m \u001b[0;30;48;2;255;217;47m None\u001b[0m \u001b[0;30;48;2;102;194;165m elif\u001b[0m \u001b[0;30;48;2;252;141;98m ==\u001b[0m \u001b[0;30;48;2;141;160;203m >=\u001b[0m \u001b[0;30;48;2;231;138;195m else\u001b[0m \u001b[0;30;48;2;166;216;84m:\u001b[0m \u001b[0;30;48;2;255;217;47m two\u001b[0m \u001b[0;30;48;2;102;194;165m tabs\u001b[0m \u001b[0;30;48;2;252;141;98m:\"\u001b[0m \u001b[0;30;48;2;141;160;203m   \u001b[0m \u001b[0;30;48;2;231;138;195m \"\u001b[0m \u001b[0;30;48;2;166;216;84m Three\u001b[0m \u001b[0;30;48;2;255;217;47m tabs\u001b[0m \u001b[0;30;48;2;102;194;165m:\u001b[0m \u001b[0;30;48;2;252;141;98m \"\u001b[0m \u001b[0;30;48;2;141;160;203m      \u001b[0m \u001b[0;30;48;2;231;138;195m \"\u001b[0m \u001b[0;30;48;2;166;216;84m\n",
      "\u001b[0m \u001b[0;30;48;2;255;217;47m1\u001b[0m \u001b[0;30;48;2;102;194;165m2\u001b[0m \u001b[0;30;48;2;252;141;98m.\u001b[0m \u001b[0;30;48;2;141;160;203m0\u001b[0m \u001b[0;30;48;2;231;138;195m*\u001b[0m \u001b[0;30;48;2;166;216;84m5\u001b[0m \u001b[0;30;48;2;255;217;47m0\u001b[0m \u001b[0;30;48;2;102;194;165m=\u001b[0m \u001b[0;30;48;2;252;141;98m6\u001b[0m \u001b[0;30;48;2;141;160;203m0\u001b[0m \u001b[0;30;48;2;231;138;195m0\u001b[0m \u001b[0;30;48;2;166;216;84m\n",
      "\u001b[0m "
     ]
    }
   ],
   "source": [
    "show_tokens(text, \"bigcode/starcoder2-15b\")"
   ]
  },
  {
   "cell_type": "markdown",
   "metadata": {},
   "source": [
    "### Galactica\n",
    "\n",
    "专注于科学领域\n",
    "\n",
    "* 分词方法：BPE\n",
    "* 参考文献：Galactica: A Large Language Model for Science\n",
    "* 特殊次元：\n",
    "  * `<s>`\n",
    "  * `<pad>`\n",
    "  * `</s>`\n",
    "  * `<unk>`\n",
    "  * 引用：`[START_REF]`，`[END_REF]`\n",
    "  * 逐步推理：`<work>`\n",
    "\n",
    "特点\n",
    "\n",
    "* 除了空白符，制表符也做了合并为一个 token 处理"
   ]
  },
  {
   "cell_type": "code",
   "execution_count": 12,
   "metadata": {},
   "outputs": [
    {
     "data": {
      "application/vnd.jupyter.widget-view+json": {
       "model_id": "30d72ff9e502477f8ddfa69b5df17821",
       "version_major": 2,
       "version_minor": 0
      },
      "text/plain": [
       "tokenizer_config.json:   0%|          | 0.00/166 [00:00<?, ?B/s]"
      ]
     },
     "metadata": {},
     "output_type": "display_data"
    },
    {
     "data": {
      "application/vnd.jupyter.widget-view+json": {
       "model_id": "ca684a389c064297aca4531fa210fcc7",
       "version_major": 2,
       "version_minor": 0
      },
      "text/plain": [
       "tokenizer.json: 0.00B [00:00, ?B/s]"
      ]
     },
     "metadata": {},
     "output_type": "display_data"
    },
    {
     "data": {
      "application/vnd.jupyter.widget-view+json": {
       "model_id": "f3dae6d6842946909fa774ba316c38aa",
       "version_major": 2,
       "version_minor": 0
      },
      "text/plain": [
       "special_tokens_map.json:   0%|          | 0.00/3.00 [00:00<?, ?B/s]"
      ]
     },
     "metadata": {},
     "output_type": "display_data"
    },
    {
     "name": "stdout",
     "output_type": "stream",
     "text": [
      "\u001b[0;30;48;2;102;194;165m\n",
      "\u001b[0m \u001b[0;30;48;2;252;141;98mEnglish\u001b[0m \u001b[0;30;48;2;141;160;203m and\u001b[0m \u001b[0;30;48;2;231;138;195m CAP\u001b[0m \u001b[0;30;48;2;166;216;84mITAL\u001b[0m \u001b[0;30;48;2;255;217;47mIZATION\u001b[0m \u001b[0;30;48;2;102;194;165m\n",
      "\u001b[0m \u001b[0;30;48;2;252;141;98m�\u001b[0m \u001b[0;30;48;2;141;160;203m�\u001b[0m \u001b[0;30;48;2;231;138;195m�\u001b[0m \u001b[0;30;48;2;166;216;84m�\u001b[0m \u001b[0;30;48;2;255;217;47m �\u001b[0m \u001b[0;30;48;2;102;194;165m�\u001b[0m \u001b[0;30;48;2;252;141;98m�\u001b[0m \u001b[0;30;48;2;141;160;203m\n",
      "\u001b[0m \u001b[0;30;48;2;231;138;195mshow\u001b[0m \u001b[0;30;48;2;166;216;84m_\u001b[0m \u001b[0;30;48;2;255;217;47mtokens\u001b[0m \u001b[0;30;48;2;102;194;165m False\u001b[0m \u001b[0;30;48;2;252;141;98m None\u001b[0m \u001b[0;30;48;2;141;160;203m elif\u001b[0m \u001b[0;30;48;2;231;138;195m \u001b[0m \u001b[0;30;48;2;166;216;84m==\u001b[0m \u001b[0;30;48;2;255;217;47m \u001b[0m \u001b[0;30;48;2;102;194;165m>\u001b[0m \u001b[0;30;48;2;252;141;98m=\u001b[0m \u001b[0;30;48;2;141;160;203m else\u001b[0m \u001b[0;30;48;2;231;138;195m:\u001b[0m \u001b[0;30;48;2;166;216;84m two\u001b[0m \u001b[0;30;48;2;255;217;47m t\u001b[0m \u001b[0;30;48;2;102;194;165mabs\u001b[0m \u001b[0;30;48;2;252;141;98m:\u001b[0m \u001b[0;30;48;2;141;160;203m\"\u001b[0m \u001b[0;30;48;2;231;138;195m    \u001b[0m \u001b[0;30;48;2;166;216;84m\"\u001b[0m \u001b[0;30;48;2;255;217;47m Three\u001b[0m \u001b[0;30;48;2;102;194;165m t\u001b[0m \u001b[0;30;48;2;252;141;98mabs\u001b[0m \u001b[0;30;48;2;141;160;203m:\u001b[0m \u001b[0;30;48;2;231;138;195m \u001b[0m \u001b[0;30;48;2;166;216;84m\"\u001b[0m \u001b[0;30;48;2;255;217;47m       \u001b[0m \u001b[0;30;48;2;102;194;165m\"\u001b[0m \u001b[0;30;48;2;252;141;98m\n",
      "\u001b[0m \u001b[0;30;48;2;141;160;203m1\u001b[0m \u001b[0;30;48;2;231;138;195m2\u001b[0m \u001b[0;30;48;2;166;216;84m.\u001b[0m \u001b[0;30;48;2;255;217;47m0\u001b[0m \u001b[0;30;48;2;102;194;165m*\u001b[0m \u001b[0;30;48;2;252;141;98m5\u001b[0m \u001b[0;30;48;2;141;160;203m0\u001b[0m \u001b[0;30;48;2;231;138;195m=\u001b[0m \u001b[0;30;48;2;166;216;84m6\u001b[0m \u001b[0;30;48;2;255;217;47m0\u001b[0m \u001b[0;30;48;2;102;194;165m0\u001b[0m \u001b[0;30;48;2;252;141;98m\n",
      "\u001b[0m "
     ]
    }
   ],
   "source": [
    "show_tokens(text, \"facebook/galactica-1.3b\")"
   ]
  },
  {
   "cell_type": "markdown",
   "metadata": {},
   "source": [
    "### Phi-3 & Llama 2\n",
    "\n",
    "Phi-3 重用了llama2\n",
    "\n",
    "* 分词法: BPE\n",
    "* 特殊token:\n",
    "  * `<|endoftext|>`\n",
    "  * 对话token: `<|user|>`，`<|assistant|>`，`<|system|>`"
   ]
  },
  {
   "cell_type": "code",
   "execution_count": 27,
   "metadata": {},
   "outputs": [
    {
     "name": "stdout",
     "output_type": "stream",
     "text": [
      "\u001b[0;37;48;5;100m\u001b[0m \u001b[0;37;48;5;101m\n",
      "\u001b[0m \u001b[0;37;48;5;102mEnglish\u001b[0m \u001b[0;37;48;5;103mand\u001b[0m \u001b[0;37;48;5;104mC\u001b[0m \u001b[0;37;48;5;105mAP\u001b[0m \u001b[0;37;48;5;106mIT\u001b[0m \u001b[0;37;48;5;100mAL\u001b[0m \u001b[0;37;48;5;101mIZ\u001b[0m \u001b[0;37;48;5;102mATION\u001b[0m \u001b[0;37;48;5;103m\n",
      "\u001b[0m \u001b[0;37;48;5;104m�\u001b[0m \u001b[0;37;48;5;105m�\u001b[0m \u001b[0;37;48;5;106m�\u001b[0m \u001b[0;37;48;5;100m�\u001b[0m \u001b[0;37;48;5;101m\u001b[0m \u001b[0;37;48;5;102m�\u001b[0m \u001b[0;37;48;5;103m�\u001b[0m \u001b[0;37;48;5;104m�\u001b[0m \u001b[0;37;48;5;105m\n",
      "\u001b[0m \u001b[0;37;48;5;106mshow\u001b[0m \u001b[0;37;48;5;100m_\u001b[0m \u001b[0;37;48;5;101mto\u001b[0m \u001b[0;37;48;5;102mkens\u001b[0m \u001b[0;37;48;5;103mFalse\u001b[0m \u001b[0;37;48;5;104mNone\u001b[0m \u001b[0;37;48;5;105melif\u001b[0m \u001b[0;37;48;5;106m==\u001b[0m \u001b[0;37;48;5;100m>=\u001b[0m \u001b[0;37;48;5;101melse\u001b[0m \u001b[0;37;48;5;102m:\u001b[0m \u001b[0;37;48;5;103mtwo\u001b[0m \u001b[0;37;48;5;104mtabs\u001b[0m \u001b[0;37;48;5;105m:\"\u001b[0m \u001b[0;37;48;5;106m  \u001b[0m \u001b[0;37;48;5;100m\"\u001b[0m \u001b[0;37;48;5;101mThree\u001b[0m \u001b[0;37;48;5;102mtabs\u001b[0m \u001b[0;37;48;5;103m:\u001b[0m \u001b[0;37;48;5;104m\"\u001b[0m \u001b[0;37;48;5;105m     \u001b[0m \u001b[0;37;48;5;106m\"\u001b[0m \u001b[0;37;48;5;100m\n",
      "\u001b[0m \u001b[0;37;48;5;101m1\u001b[0m \u001b[0;37;48;5;102m2\u001b[0m \u001b[0;37;48;5;103m.\u001b[0m \u001b[0;37;48;5;104m0\u001b[0m \u001b[0;37;48;5;105m*\u001b[0m \u001b[0;37;48;5;106m5\u001b[0m \u001b[0;37;48;5;100m0\u001b[0m \u001b[0;37;48;5;101m=\u001b[0m \u001b[0;37;48;5;102m6\u001b[0m \u001b[0;37;48;5;103m0\u001b[0m \u001b[0;37;48;5;104m0\u001b[0m \u001b[0;37;48;5;105m\n",
      "\u001b[0m "
     ]
    }
   ],
   "source": [
    "show_tokens(text, \"microsoft/Phi-3-mini-4k-instruct\")"
   ]
  },
  {
   "cell_type": "markdown",
   "metadata": {},
   "source": [
    "## embedding 嵌入\n",
    "\n",
    "* token embedding\n",
    "* text embedding: 文本嵌入，一段文本输出一个 vector"
   ]
  },
  {
   "cell_type": "code",
   "execution_count": 2,
   "metadata": {},
   "outputs": [
    {
     "name": "stdout",
     "output_type": "stream",
     "text": [
      "[ 3.23563931e-03  3.75038236e-02 -8.97983089e-03 -1.12057838e-03\n",
      "  8.67718384e-02 -7.09403306e-03  1.40363593e-02  5.02491742e-02\n",
      "  3.62240971e-04 -1.72925852e-02 -2.42411476e-02 -4.44700010e-02\n",
      " -1.85811017e-02  4.49257232e-02  7.61594623e-02 -6.75336272e-02\n",
      "  6.65571839e-02  6.80227252e-03 -4.35344838e-02  1.25255799e-02\n",
      "  3.17336209e-02  2.38824263e-02  8.99560656e-03  7.08487481e-02\n",
      "  2.36419104e-02 -2.50046216e-02  9.15727951e-03  5.60097909e-03\n",
      "  3.62668075e-02 -7.60861812e-03 -5.13904952e-02  1.26744937e-02\n",
      "  5.45808189e-02  5.19572832e-02  2.13643852e-06 -4.83830757e-02\n",
      "  1.63214374e-02  5.49030863e-03 -8.27288069e-03 -3.92285502e-03\n",
      "  2.43315194e-03  5.29484041e-02 -2.93909255e-02 -4.72563971e-03\n",
      "  4.67390474e-03 -6.34189770e-02  9.40909144e-03 -2.50146695e-04\n",
      "  3.11553944e-02  1.51310852e-02 -1.04794349e-03  2.88592521e-02\n",
      " -6.74251691e-02  6.58996217e-03  5.90331629e-02  1.05538657e-02\n",
      "  2.85545811e-02  2.74006631e-02  5.95161552e-03 -2.89275683e-02\n",
      "  6.13908544e-02 -4.74571697e-02 -1.76228769e-02 -9.38848685e-03\n",
      " -2.32612435e-02  3.53501998e-02 -3.64850573e-02  3.79671082e-02\n",
      "  4.29507205e-03  7.22696185e-02  2.05886122e-02 -2.78462376e-02\n",
      "  3.64084654e-02  8.43024254e-02  2.82347482e-02 -5.67832291e-02\n",
      " -3.93022932e-02  9.00285468e-02  2.93679107e-02  2.10034214e-02\n",
      " -2.25986764e-02  2.71104872e-02 -4.80309967e-03 -2.61483118e-02\n",
      " -8.99867341e-03  7.13944063e-02  8.33630655e-03  8.69458541e-03\n",
      "  3.05446927e-02  1.82181709e-02 -5.34950709e-03 -1.50885163e-02\n",
      " -3.65877636e-02  3.00517641e-02  1.28597645e-02 -5.96655533e-02\n",
      "  4.37867828e-02 -1.61352661e-03  6.07432723e-02 -7.37277791e-02\n",
      " -2.31717667e-03  3.89349386e-02  2.93615237e-02  2.54787207e-02\n",
      "  4.04122612e-03  2.43068133e-02  1.60414539e-02 -9.72188413e-02\n",
      " -6.72895694e-03 -1.39000928e-02 -5.44321351e-02  1.29114240e-02\n",
      "  5.31127267e-02  2.95343082e-02 -5.13042770e-02  1.21444007e-02\n",
      "  8.16741772e-03  4.34684753e-02  4.57475660e-03  6.40335400e-03\n",
      "  2.09760852e-02  6.54658303e-03  1.55158779e-02  1.31525761e-02\n",
      "  2.62634419e-02 -2.11872086e-02 -3.38744558e-02  4.78156237e-03\n",
      " -5.24114482e-02 -5.72519414e-02 -4.56088316e-03  7.74141168e-03\n",
      "  2.23522540e-02  1.95954330e-02  9.76652279e-03  2.87688281e-02\n",
      " -3.16077247e-02 -1.76161062e-02  4.47960906e-02  2.28578001e-02\n",
      " -3.57456058e-02  1.59383472e-02  1.22822728e-02  4.23032884e-03\n",
      " -1.69545785e-02 -1.25219394e-02  5.65536842e-02  7.34081268e-02\n",
      "  1.03771407e-02 -1.28785642e-02  6.44038105e-03 -1.89446341e-02\n",
      " -8.00894275e-02  1.02547267e-02  4.22201976e-02  3.04369181e-02\n",
      "  3.00527047e-02 -3.03247552e-02 -7.95649812e-02 -4.05807383e-02\n",
      " -1.28305545e-02  2.18389705e-02  3.33916955e-02  1.68694388e-02\n",
      "  3.42548192e-02  2.95766350e-02  2.66114785e-03 -3.67561728e-02\n",
      "  1.95224117e-02 -1.13629945e-01 -1.32511146e-02 -1.09524271e-02\n",
      " -1.48393651e-02  5.10537326e-02 -2.95010512e-03 -4.28568497e-02\n",
      " -5.71001805e-02  2.96137929e-02  3.32529545e-02 -4.51858947e-03\n",
      " -2.90886592e-02 -5.98549023e-02 -1.17842155e-02 -4.67091575e-02\n",
      " -3.36629264e-02  4.28646654e-02  2.01778021e-02 -3.82554508e-03\n",
      " -4.50365655e-02  2.84898207e-02  1.09886331e-03  1.94498431e-02\n",
      " -5.89776933e-02 -1.24177886e-02 -4.82985564e-02  1.52593348e-02\n",
      "  2.23984029e-02 -1.73379872e-02  2.36274749e-02 -6.77985996e-02\n",
      " -3.22760455e-02  4.58641089e-02  6.71094051e-04 -4.10414152e-02\n",
      " -2.60777920e-02  1.99169070e-02  7.01079890e-02 -1.51625155e-02\n",
      "  5.05525954e-02  6.21637776e-02 -1.39556890e-02  3.75599164e-04\n",
      " -5.53406402e-03  6.26988634e-02 -6.70269458e-03 -2.07541641e-02\n",
      "  1.40429912e-02  6.56591654e-02 -7.20934663e-03  7.72146210e-02\n",
      " -5.92884654e-03  1.73119623e-02  2.69095767e-02 -2.76326966e-02\n",
      "  3.65289487e-02 -5.66172861e-02  6.65861601e-03  3.96299288e-02\n",
      " -3.54898497e-02  2.18216944e-02 -3.57031710e-02 -1.61618814e-02\n",
      "  2.20415257e-02 -3.79199311e-02 -1.07491883e-02 -2.41253767e-02\n",
      "  7.00517148e-02 -3.62813622e-02  4.61393632e-02 -1.34852096e-01\n",
      "  3.51447389e-02  3.43016721e-02  1.83585864e-02 -3.95837016e-02\n",
      "  6.13837615e-02  3.72586474e-02 -6.48456067e-03  3.04016396e-02\n",
      "  1.23383058e-02  7.27308495e-03  8.71018041e-03  9.17140860e-03\n",
      " -8.69042128e-02 -2.45803222e-02 -1.16796810e-02 -3.82028706e-02\n",
      " -1.96857508e-02 -8.24215729e-03 -2.43861824e-02 -3.69805321e-02\n",
      "  4.68772464e-02 -3.59066539e-02  6.34912960e-03  2.35992447e-02\n",
      "  4.10246551e-02  2.43993569e-02 -5.68567659e-04 -5.65983579e-02\n",
      " -1.81642845e-02 -7.70043349e-04  1.80240367e-02  3.12552787e-02\n",
      "  7.88803492e-03 -8.81909486e-03 -4.32431027e-02 -1.66326370e-02\n",
      "  4.42484766e-02  5.45834936e-03  4.44979267e-03  3.31204906e-02\n",
      "  3.52573693e-02 -2.44186316e-02 -4.07582223e-02  9.14392341e-03\n",
      " -4.27285675e-03  5.09938113e-02  4.36107516e-02 -3.21354531e-02\n",
      "  2.40136143e-02  8.08866695e-03 -2.89134309e-02  5.93666220e-03\n",
      " -2.83834618e-02 -2.91849319e-02  3.00715752e-02 -4.36498635e-02\n",
      "  6.83557428e-03 -7.42761716e-02 -1.50674675e-02 -1.64427981e-02\n",
      " -4.51176055e-02  5.02496362e-02  2.55324058e-02 -1.25877727e-02\n",
      "  2.38586459e-02 -9.26177576e-03  1.53055023e-02 -4.03268449e-02\n",
      " -2.91890167e-02  4.60798815e-02  4.30460833e-02 -1.65856052e-02\n",
      " -2.67980229e-02  3.77537794e-02  2.96096746e-02  1.67923619e-03\n",
      " -4.26922478e-02 -1.15371615e-01  3.96026205e-03 -2.55124010e-02\n",
      "  1.69227347e-02  3.02873179e-02 -1.60439424e-02  1.74906701e-02\n",
      " -3.28518339e-02  9.06801224e-02  6.92627626e-03  2.42320914e-02\n",
      "  5.82374670e-02  5.90900937e-03  3.96690145e-02 -9.19964444e-03\n",
      " -8.99739750e-03 -9.37228464e-03 -3.14921252e-02 -5.80964386e-02\n",
      "  3.72322313e-02 -3.16938534e-02 -1.40700415e-02  1.58952344e-02\n",
      " -2.77596787e-02 -6.47711456e-02 -4.67890613e-02  3.12937424e-02\n",
      " -4.39484864e-02 -2.61180531e-02  4.89080139e-03 -2.50553135e-02\n",
      " -7.62099847e-02 -1.30116595e-02 -2.04973333e-02 -3.78554687e-02\n",
      " -2.09145015e-03 -1.14302384e-02 -1.83830131e-02 -2.94495504e-02\n",
      " -4.28056391e-03  2.27639615e-03 -2.54672039e-02 -3.46788540e-02\n",
      " -6.41309563e-03 -2.22419593e-02  2.93250065e-02  8.52545276e-02\n",
      " -5.54250320e-04 -2.67062616e-02  2.79020127e-02  3.47868279e-02\n",
      " -4.52633500e-02  1.75257563e-03 -1.42491143e-02  4.01154235e-02\n",
      " -9.10329819e-03  5.95789254e-02 -2.90542282e-02  1.86539032e-02\n",
      " -6.29695356e-02 -1.40406713e-02  3.10059991e-02  1.73412170e-02\n",
      "  1.87030099e-02  2.04122271e-02  3.89122702e-02 -1.01282618e-04\n",
      " -5.59199862e-02 -9.84833203e-03 -2.24627322e-03  1.71944126e-02\n",
      "  3.43493489e-03  5.94060756e-02  3.45110856e-02 -8.81591663e-02\n",
      "  8.93616211e-03  7.91233499e-03 -9.93316900e-03  4.56328988e-02\n",
      " -1.09003251e-02  8.24450795e-03 -3.96976843e-02  1.12494742e-02\n",
      " -2.38610934e-02  2.17371844e-02  6.30165562e-02  2.47091930e-02\n",
      "  5.42748496e-02 -6.94026938e-03  1.01372540e-01  3.49381426e-03\n",
      "  2.38983203e-02 -1.76547430e-02 -3.08565255e-02  1.28819095e-02\n",
      "  1.66080501e-02 -3.95070203e-03 -6.10788772e-03 -7.08508715e-02\n",
      " -2.66641825e-02 -5.45031354e-02 -1.90843008e-02 -1.42809125e-02\n",
      "  9.13796760e-03 -1.14063243e-03 -1.53720109e-02  5.97274341e-02\n",
      "  1.26161417e-02  6.41692802e-03  2.77943760e-02  1.11425474e-01\n",
      "  1.97910308e-03  3.52507532e-02  1.39157567e-03 -2.41365284e-03\n",
      "  4.79517281e-02  4.15577926e-02  9.58862947e-04 -2.49619577e-02\n",
      "  2.22265702e-02 -5.68487402e-03 -5.86595908e-02 -1.81503370e-02\n",
      "  1.41038783e-02 -7.04274164e-04  1.40567394e-02 -7.21569057e-04\n",
      " -2.55252868e-02  3.16696465e-02  1.01955682e-02 -2.03078296e-02\n",
      "  3.66541184e-02 -7.89982304e-02  1.78440996e-02 -5.80783468e-03\n",
      " -3.55348922e-02 -7.88955316e-02  2.60751396e-02 -8.39317590e-02\n",
      " -9.51416884e-03  2.33275611e-02  3.44971418e-02 -5.10719344e-02\n",
      "  7.93735608e-02  1.57288406e-02 -7.49209821e-02  1.16318185e-02\n",
      "  3.74965072e-02 -6.88797655e-03 -2.69480813e-02  4.02271636e-02\n",
      "  4.40159813e-02 -3.62363178e-03 -4.78981733e-02  1.32395215e-02\n",
      " -2.22957674e-02 -1.09910844e-02 -1.33915152e-02  3.21780108e-02\n",
      " -1.77949239e-02 -3.48552167e-02 -8.13151076e-02 -2.05157883e-02\n",
      "  7.88615365e-03  9.70698820e-05  5.60690323e-03 -1.03430413e-02\n",
      " -3.05711720e-02 -5.85755520e-02  6.40869513e-02 -1.27007514e-02\n",
      " -3.44073996e-02  3.42962472e-03 -1.49140731e-02  1.40465265e-02\n",
      "  5.54037988e-02  2.51250863e-02 -7.67555162e-02  3.53765935e-02\n",
      "  4.45435382e-02 -6.17633164e-02  8.29439703e-03  4.14755307e-02\n",
      "  2.04132367e-02  2.93610878e-02 -2.40093246e-02  1.03198076e-02\n",
      "  2.84434985e-02 -2.13488787e-02 -5.87901007e-03  5.67317987e-03\n",
      "  3.37435072e-03 -3.59438844e-02  1.14926584e-02  3.39906588e-02\n",
      " -4.27417792e-02 -1.00665063e-01 -5.44572389e-03  9.22297910e-02\n",
      " -6.67072833e-04  1.83666367e-02  2.45877467e-02 -2.72810031e-02\n",
      "  3.66042703e-02 -2.52339290e-03 -2.75392029e-02 -1.87811777e-02\n",
      "  8.07703659e-03  1.14531144e-02 -3.41859832e-03 -2.77604293e-02\n",
      "  1.13430722e-02 -6.55804935e-04 -4.65694964e-02 -1.12430975e-02\n",
      "  3.11550200e-02  2.46596243e-02 -2.67128889e-02  5.55432290e-02\n",
      "  5.53402714e-02  2.13367753e-02 -2.64131296e-02  7.17055351e-02\n",
      " -3.35977972e-02  3.46695408e-02 -6.35835482e-03  2.72773523e-02\n",
      " -1.15304748e-02  6.65871501e-02  2.77775452e-02 -1.62243401e-03\n",
      " -1.23431981e-02 -4.56075631e-02  2.07748287e-03  3.63293104e-02\n",
      " -1.04265809e-02 -2.76496308e-03 -1.42523805e-02 -6.84182307e-33\n",
      " -4.28115986e-02  3.51762399e-02 -6.29175156e-02 -2.33653840e-02\n",
      " -6.34564683e-02 -2.15887763e-02  4.04872149e-02  1.01927603e-02\n",
      " -1.24232126e-02  4.77323160e-02 -3.44871990e-02  1.04546808e-02\n",
      "  1.37403477e-02 -1.88710145e-03 -1.10093215e-02 -2.62401272e-02\n",
      "  3.23281847e-02  4.38603945e-02 -2.92677525e-03  4.43473924e-03\n",
      " -6.45030988e-03  1.93286203e-02  4.52241749e-02 -8.76917597e-03\n",
      "  7.42224902e-02  9.16989800e-03 -3.73702310e-02 -2.65152343e-02\n",
      "  5.34243509e-02 -7.96663295e-03 -5.46367243e-02 -3.52474605e-03\n",
      " -1.05899666e-02  2.01415028e-02 -9.47756041e-03  3.83259319e-02\n",
      " -1.65744163e-02 -1.62750389e-02  3.61739583e-02 -2.91497596e-02\n",
      " -6.59232354e-03  5.73065579e-02 -4.96475622e-02 -5.52352741e-02\n",
      "  2.58096531e-02  3.02931145e-02  8.85522459e-03  3.15928906e-02\n",
      "  3.06327194e-02 -1.37808910e-02 -7.84196556e-02 -5.69410771e-02\n",
      " -8.70704278e-03 -7.22320750e-02 -8.87867883e-02  6.69152569e-03\n",
      " -7.72559550e-03 -1.45286405e-02  1.45944273e-02  2.08867993e-02\n",
      "  6.60647526e-02 -3.19938138e-02 -4.85493056e-02  4.29063477e-02\n",
      "  1.54093308e-02  6.38144612e-02  1.04156241e-01  1.55958664e-02\n",
      " -3.60553935e-02 -6.56859651e-02 -3.81026790e-02 -7.62870861e-03\n",
      " -4.10143062e-02  4.98878881e-02 -5.05096316e-02 -1.17118638e-02\n",
      " -6.33057877e-02 -3.38802822e-02 -3.40927653e-02 -2.85585970e-02\n",
      " -2.29253173e-02 -1.90452076e-02 -3.26610655e-02  2.01633126e-02\n",
      "  8.53206310e-03  3.81737575e-02 -1.75806694e-02  1.18897529e-02\n",
      " -5.54962568e-02  1.32352319e-02 -2.94704195e-02 -7.34487250e-02\n",
      "  5.45544131e-03 -5.17400391e-02 -2.32403874e-02  8.67951661e-03\n",
      "  4.06448580e-02 -1.39952376e-02  2.55401363e-03 -2.09785458e-02\n",
      "  3.12127285e-02 -5.77315781e-03 -5.81804588e-02  4.70074415e-02\n",
      "  9.13120992e-03  4.65934165e-02 -4.22007777e-02  6.23240182e-03\n",
      " -4.68844846e-02 -2.43914798e-02 -1.30678760e-02  4.82314586e-04\n",
      " -1.52129298e-02  1.67791452e-02  7.80757226e-04  1.27544347e-02\n",
      "  2.55248193e-02  2.40792744e-02 -5.97764812e-02 -1.10533237e-02\n",
      "  4.21722494e-02 -3.77834737e-02 -4.45022359e-02  4.72905068e-03\n",
      " -2.95271594e-02 -6.80553354e-03 -9.52869933e-03  3.09896655e-02\n",
      "  3.28370892e-02 -1.66027155e-02  1.54337948e-02 -4.34609428e-02\n",
      "  2.69997287e-07  2.02055350e-02 -3.72451618e-02 -2.19753496e-02\n",
      "  4.76159304e-02  1.85612589e-02  1.01545490e-02 -2.39006076e-02\n",
      "  5.50214015e-02  4.35274653e-02  1.31523050e-02 -1.31223528e-02\n",
      " -8.25647451e-03 -7.82558974e-03 -6.02603070e-02 -6.72648549e-02\n",
      "  3.11308238e-03 -4.48753536e-02 -1.14928693e-01 -1.04355421e-02\n",
      "  1.64353941e-02 -1.85675509e-02  7.51705142e-03 -4.62668315e-02\n",
      " -9.64969955e-03  2.31645089e-02 -2.72761993e-02  4.31686565e-02\n",
      " -1.37377186e-02 -3.02393083e-02 -1.36652656e-04 -2.54460871e-02\n",
      " -4.44084257e-02  4.23360243e-03 -3.44407484e-02  2.84211989e-02\n",
      " -1.64584499e-02  1.71466526e-02  2.32926682e-02  3.18193133e-03\n",
      "  6.81045279e-02 -2.56644059e-02  3.12293526e-02 -2.89277975e-02\n",
      " -1.75148528e-02  3.78004275e-02  2.03934684e-02  3.31081301e-02\n",
      "  1.07239941e-02 -1.20696081e-02 -3.87948342e-02 -1.93405710e-02\n",
      " -1.98770072e-02  1.19275441e-02  1.93323623e-02 -1.17914774e-03\n",
      "  2.41212193e-02  5.72142079e-02  2.57024728e-03  1.57631543e-02\n",
      " -5.18403500e-02  1.07761081e-02 -9.42035466e-02 -4.93249204e-03\n",
      "  3.43226381e-02 -1.85250938e-02  1.29157689e-03 -2.45226491e-02\n",
      "  1.41819984e-34 -1.29789030e-02  2.75008660e-02  3.46690081e-02\n",
      "  6.30591437e-02 -1.95061732e-02  4.83336439e-03 -3.89828198e-02\n",
      "  1.83316320e-02  4.60191481e-02 -2.53093373e-02 -1.60924587e-02]\n",
      "(768,)\n"
     ]
    }
   ],
   "source": [
    "# 文本嵌入\n",
    "from sentence_transformers import SentenceTransformer\n",
    "\n",
    "\n",
    "model = SentenceTransformer('sentence-transformers/all-mpnet-base-v2')\n",
    "vector = model.encode(\"Hello world!!!\")\n",
    "\n",
    "print(vector)\n",
    "print(vector.shape)"
   ]
  },
  {
   "cell_type": "markdown",
   "metadata": {},
   "source": [
    "#### 其他词嵌入"
   ]
  },
  {
   "cell_type": "code",
   "execution_count": 2,
   "metadata": {},
   "outputs": [
    {
     "ename": "ValueError",
     "evalue": "numpy.dtype size changed, may indicate binary incompatibility. Expected 96 from C header, got 88 from PyObject",
     "output_type": "error",
     "traceback": [
      "\u001b[31m---------------------------------------------------------------------------\u001b[39m",
      "\u001b[31mValueError\u001b[39m                                Traceback (most recent call last)",
      "\u001b[36mCell\u001b[39m\u001b[36m \u001b[39m\u001b[32mIn[2]\u001b[39m\u001b[32m, line 1\u001b[39m\n\u001b[32m----> \u001b[39m\u001b[32m1\u001b[39m \u001b[38;5;28;01mimport\u001b[39;00m\u001b[38;5;250m \u001b[39m\u001b[34;01mgensim\u001b[39;00m\n\u001b[32m      3\u001b[39m model = gensim.downloader.load(\u001b[33m\"\u001b[39m\u001b[33mglove-wiki-gigaword-50\u001b[39m\u001b[33m\"\u001b[39m)\n",
      "\u001b[36mFile \u001b[39m\u001b[32m/Library/Frameworks/Python.framework/Versions/3.12/lib/python3.12/site-packages/gensim/__init__.py:11\u001b[39m\n\u001b[32m      7\u001b[39m __version__ = \u001b[33m'\u001b[39m\u001b[33m4.3.3\u001b[39m\u001b[33m'\u001b[39m\n\u001b[32m      9\u001b[39m \u001b[38;5;28;01mimport\u001b[39;00m\u001b[38;5;250m \u001b[39m\u001b[34;01mlogging\u001b[39;00m\n\u001b[32m---> \u001b[39m\u001b[32m11\u001b[39m \u001b[38;5;28;01mfrom\u001b[39;00m\u001b[38;5;250m \u001b[39m\u001b[34;01mgensim\u001b[39;00m\u001b[38;5;250m \u001b[39m\u001b[38;5;28;01mimport\u001b[39;00m parsing, corpora, matutils, interfaces, models, similarities, utils  \u001b[38;5;66;03m# noqa:F401\u001b[39;00m\n\u001b[32m     14\u001b[39m logger = logging.getLogger(\u001b[33m'\u001b[39m\u001b[33mgensim\u001b[39m\u001b[33m'\u001b[39m)\n\u001b[32m     15\u001b[39m \u001b[38;5;28;01mif\u001b[39;00m \u001b[38;5;129;01mnot\u001b[39;00m logger.handlers:  \u001b[38;5;66;03m# To ensure reload() doesn't add another one\u001b[39;00m\n",
      "\u001b[36mFile \u001b[39m\u001b[32m/Library/Frameworks/Python.framework/Versions/3.12/lib/python3.12/site-packages/gensim/corpora/__init__.py:6\u001b[39m\n\u001b[32m      1\u001b[39m \u001b[33;03m\"\"\"\u001b[39;00m\n\u001b[32m      2\u001b[39m \u001b[33;03mThis package contains implementations of various streaming corpus I/O format.\u001b[39;00m\n\u001b[32m      3\u001b[39m \u001b[33;03m\"\"\"\u001b[39;00m\n\u001b[32m      5\u001b[39m \u001b[38;5;66;03m# bring corpus classes directly into package namespace, to save some typing\u001b[39;00m\n\u001b[32m----> \u001b[39m\u001b[32m6\u001b[39m \u001b[38;5;28;01mfrom\u001b[39;00m\u001b[38;5;250m \u001b[39m\u001b[34;01m.\u001b[39;00m\u001b[34;01mindexedcorpus\u001b[39;00m\u001b[38;5;250m \u001b[39m\u001b[38;5;28;01mimport\u001b[39;00m IndexedCorpus  \u001b[38;5;66;03m# noqa:F401 must appear before the other classes\u001b[39;00m\n\u001b[32m      8\u001b[39m \u001b[38;5;28;01mfrom\u001b[39;00m\u001b[38;5;250m \u001b[39m\u001b[34;01m.\u001b[39;00m\u001b[34;01mmmcorpus\u001b[39;00m\u001b[38;5;250m \u001b[39m\u001b[38;5;28;01mimport\u001b[39;00m MmCorpus  \u001b[38;5;66;03m# noqa:F401\u001b[39;00m\n\u001b[32m      9\u001b[39m \u001b[38;5;28;01mfrom\u001b[39;00m\u001b[38;5;250m \u001b[39m\u001b[34;01m.\u001b[39;00m\u001b[34;01mbleicorpus\u001b[39;00m\u001b[38;5;250m \u001b[39m\u001b[38;5;28;01mimport\u001b[39;00m BleiCorpus  \u001b[38;5;66;03m# noqa:F401\u001b[39;00m\n",
      "\u001b[36mFile \u001b[39m\u001b[32m/Library/Frameworks/Python.framework/Versions/3.12/lib/python3.12/site-packages/gensim/corpora/indexedcorpus.py:14\u001b[39m\n\u001b[32m     10\u001b[39m \u001b[38;5;28;01mimport\u001b[39;00m\u001b[38;5;250m \u001b[39m\u001b[34;01mlogging\u001b[39;00m\n\u001b[32m     12\u001b[39m \u001b[38;5;28;01mimport\u001b[39;00m\u001b[38;5;250m \u001b[39m\u001b[34;01mnumpy\u001b[39;00m\n\u001b[32m---> \u001b[39m\u001b[32m14\u001b[39m \u001b[38;5;28;01mfrom\u001b[39;00m\u001b[38;5;250m \u001b[39m\u001b[34;01mgensim\u001b[39;00m\u001b[38;5;250m \u001b[39m\u001b[38;5;28;01mimport\u001b[39;00m interfaces, utils\n\u001b[32m     16\u001b[39m logger = logging.getLogger(\u001b[34m__name__\u001b[39m)\n\u001b[32m     19\u001b[39m \u001b[38;5;28;01mclass\u001b[39;00m\u001b[38;5;250m \u001b[39m\u001b[34;01mIndexedCorpus\u001b[39;00m(interfaces.CorpusABC):\n",
      "\u001b[36mFile \u001b[39m\u001b[32m/Library/Frameworks/Python.framework/Versions/3.12/lib/python3.12/site-packages/gensim/interfaces.py:19\u001b[39m\n\u001b[32m      7\u001b[39m \u001b[33;03m\"\"\"Basic interfaces used across the whole Gensim package.\u001b[39;00m\n\u001b[32m      8\u001b[39m \n\u001b[32m      9\u001b[39m \u001b[33;03mThese interfaces are used for building corpora, model transformation and similarity queries.\u001b[39;00m\n\u001b[32m   (...)\u001b[39m\u001b[32m     14\u001b[39m \n\u001b[32m     15\u001b[39m \u001b[33;03m\"\"\"\u001b[39;00m\n\u001b[32m     17\u001b[39m \u001b[38;5;28;01mimport\u001b[39;00m\u001b[38;5;250m \u001b[39m\u001b[34;01mlogging\u001b[39;00m\n\u001b[32m---> \u001b[39m\u001b[32m19\u001b[39m \u001b[38;5;28;01mfrom\u001b[39;00m\u001b[38;5;250m \u001b[39m\u001b[34;01mgensim\u001b[39;00m\u001b[38;5;250m \u001b[39m\u001b[38;5;28;01mimport\u001b[39;00m utils, matutils\n\u001b[32m     22\u001b[39m logger = logging.getLogger(\u001b[34m__name__\u001b[39m)\n\u001b[32m     25\u001b[39m \u001b[38;5;28;01mclass\u001b[39;00m\u001b[38;5;250m \u001b[39m\u001b[34;01mCorpusABC\u001b[39;00m(utils.SaveLoad):\n",
      "\u001b[36mFile \u001b[39m\u001b[32m/Library/Frameworks/Python.framework/Versions/3.12/lib/python3.12/site-packages/gensim/matutils.py:1034\u001b[39m\n\u001b[32m   1029\u001b[39m     \u001b[38;5;28;01mreturn\u001b[39;00m \u001b[32m1.\u001b[39m - \u001b[38;5;28mfloat\u001b[39m(\u001b[38;5;28mlen\u001b[39m(set1 & set2)) / \u001b[38;5;28mfloat\u001b[39m(union_cardinality)\n\u001b[32m   1032\u001b[39m \u001b[38;5;28;01mtry\u001b[39;00m:\n\u001b[32m   1033\u001b[39m     \u001b[38;5;66;03m# try to load fast, cythonized code if possible\u001b[39;00m\n\u001b[32m-> \u001b[39m\u001b[32m1034\u001b[39m     \u001b[38;5;28;01mfrom\u001b[39;00m\u001b[38;5;250m \u001b[39m\u001b[34;01mgensim\u001b[39;00m\u001b[34;01m.\u001b[39;00m\u001b[34;01m_matutils\u001b[39;00m\u001b[38;5;250m \u001b[39m\u001b[38;5;28;01mimport\u001b[39;00m logsumexp, mean_absolute_difference, dirichlet_expectation\n\u001b[32m   1036\u001b[39m \u001b[38;5;28;01mexcept\u001b[39;00m \u001b[38;5;167;01mImportError\u001b[39;00m:\n\u001b[32m   1037\u001b[39m     \u001b[38;5;28;01mdef\u001b[39;00m\u001b[38;5;250m \u001b[39m\u001b[34mlogsumexp\u001b[39m(x):\n",
      "\u001b[36mFile \u001b[39m\u001b[32m/Library/Frameworks/Python.framework/Versions/3.12/lib/python3.12/site-packages/gensim/_matutils.pyx:1\u001b[39m, in \u001b[36minit gensim._matutils\u001b[39m\u001b[34m()\u001b[39m\n",
      "\u001b[31mValueError\u001b[39m: numpy.dtype size changed, may indicate binary incompatibility. Expected 96 from C header, got 88 from PyObject"
     ]
    }
   ],
   "source": [
    "import gensim\n",
    "\n",
    "model = gensim.downloader.load(\"glove-wiki-gigaword-50\")"
   ]
  }
 ],
 "metadata": {
  "language_info": {
   "name": "python"
  }
 },
 "nbformat": 4,
 "nbformat_minor": 2
}
